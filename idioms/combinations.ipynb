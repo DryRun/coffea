{
 "cells": [
  {
   "cell_type": "code",
   "execution_count": 9,
   "metadata": {},
   "outputs": [],
   "source": [
    "from __future__ import print_function\n",
    "import numpy as np\n",
    "import numba\n",
    "import awkward\n",
    "\n",
    "np.random.seed(4)\n",
    "nrows = 50000"
   ]
  },
  {
   "cell_type": "code",
   "execution_count": 2,
   "metadata": {},
   "outputs": [],
   "source": [
    "def comb(counts, content):\n",
    "    out_counts = counts*(counts-1)//2\n",
    "    out = np.empty((np.sum(out_counts), ) + content.shape[1:])\n",
    "    i = 0\n",
    "    n = 0\n",
    "    for c in counts:\n",
    "        for i1 in range(i, i+c):\n",
    "            for i2 in range(i1+1, i+c):\n",
    "                out[n] = content[i1]+content[i2]\n",
    "                n += 1\n",
    "        i += c\n",
    "    return (out_counts, out)\n",
    "\n",
    "comb_fast = numba.njit(comb)\n",
    "\n",
    "def awk_comb(awk):\n",
    "    c = awk.pairs(same=False)\n",
    "    return c[\"0\"] + c[\"1\"]\n",
    "\n",
    "def py_comb(awk):\n",
    "    counts, content = comb(awk.counts, awk.content)\n",
    "    return awkward.JaggedArray.fromcounts(counts, content)\n",
    "\n",
    "def py_comb_fast(awk):\n",
    "    counts, content = comb_fast(awk.counts, awk.content)\n",
    "    return awkward.JaggedArray.fromcounts(counts, content)"
   ]
  },
  {
   "cell_type": "code",
   "execution_count": 3,
   "metadata": {},
   "outputs": [
    {
     "name": "stdout",
     "output_type": "stream",
     "text": [
      "(77794, 4)\n"
     ]
    }
   ],
   "source": [
    "nwide = 4\n",
    "counts = np.minimum(np.random.exponential(2, size=nrows).astype(int), 20)\n",
    "content = np.random.normal(size=np.sum(counts)*nwide).reshape((-1, nwide))\n",
    "print(content.shape)\n",
    "\n",
    "awk_vector = awkward.JaggedArray.fromcounts(counts, content)"
   ]
  },
  {
   "cell_type": "code",
   "execution_count": 7,
   "metadata": {},
   "outputs": [
    {
     "name": "stdout",
     "output_type": "stream",
     "text": [
      "30.8 ms ± 2.22 ms per loop (mean ± std. dev. of 7 runs, 10 loops each)\n",
      "179 ms ± 3.75 ms per loop (mean ± std. dev. of 7 runs, 10 loops each)\n",
      "15.7 ms ± 515 µs per loop (mean ± std. dev. of 7 runs, 100 loops each)\n",
      "15.4 ms ± 240 µs per loop (mean ± std. dev. of 7 runs, 100 loops each)\n"
     ]
    }
   ],
   "source": [
    "# force pre-compilation of numba functions\n",
    "_ = py_comb_fast(awk_vector)\n",
    "\n",
    "%timeit awk_comb(awk_vector)\n",
    "%timeit py_comb(awk_vector)\n",
    "%timeit py_comb_fast(awk_vector)\n",
    "%timeit comb_fast(awk_vector.counts, awk_vector.content)"
   ]
  },
  {
   "cell_type": "code",
   "execution_count": 5,
   "metadata": {},
   "outputs": [
    {
     "name": "stdout",
     "output_type": "stream",
     "text": [
      "(77047,)\n"
     ]
    }
   ],
   "source": [
    "nwide = 4\n",
    "counts = np.minimum(np.random.exponential(2, size=nrows).astype(int), 20)\n",
    "content = np.random.normal(size=np.sum(counts))\n",
    "print(content.shape)\n",
    "\n",
    "awk_scalar = awkward.JaggedArray.fromcounts(counts, content)"
   ]
  },
  {
   "cell_type": "code",
   "execution_count": 8,
   "metadata": {},
   "outputs": [
    {
     "name": "stdout",
     "output_type": "stream",
     "text": [
      "18.4 ms ± 613 µs per loop (mean ± std. dev. of 7 runs, 100 loops each)\n",
      "88.4 ms ± 2.19 ms per loop (mean ± std. dev. of 7 runs, 10 loops each)\n",
      "855 µs ± 20.9 µs per loop (mean ± std. dev. of 7 runs, 1000 loops each)\n",
      "686 µs ± 17.3 µs per loop (mean ± std. dev. of 7 runs, 1000 loops each)\n"
     ]
    }
   ],
   "source": [
    "# force pre-compilation of numba functions\n",
    "_ = py_comb_fast(awk_scalar)\n",
    "\n",
    "%timeit awk_comb(awk_scalar)\n",
    "%timeit py_comb(awk_scalar)\n",
    "%timeit py_comb_fast(awk_scalar)\n",
    "%timeit comb_fast(awk_scalar.counts, awk_scalar.content)"
   ]
  },
  {
   "cell_type": "code",
   "execution_count": null,
   "metadata": {},
   "outputs": [],
   "source": []
  }
 ],
 "metadata": {
  "kernelspec": {
   "display_name": "Python 3",
   "language": "python",
   "name": "python3"
  },
  "language_info": {
   "codemirror_mode": {
    "name": "ipython",
    "version": 3
   },
   "file_extension": ".py",
   "mimetype": "text/x-python",
   "name": "python",
   "nbconvert_exporter": "python",
   "pygments_lexer": "ipython3",
   "version": "3.7.0"
  }
 },
 "nbformat": 4,
 "nbformat_minor": 2
}
