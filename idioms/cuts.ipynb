{
 "cells": [
  {
   "cell_type": "code",
   "execution_count": 1,
   "metadata": {},
   "outputs": [],
   "source": [
    "import numpy as np"
   ]
  },
  {
   "cell_type": "code",
   "execution_count": 2,
   "metadata": {},
   "outputs": [],
   "source": [
    "# Strawman\n",
    "class DataFrame(object):\n",
    "    def __init__(self, nEvents=1000):\n",
    "        # six packed bits with some predefined meaning\n",
    "        self.triggers = np.random.randint(2**6, size=nEvents, dtype='i')\n",
    "        # some composite candidate with substructure variables\n",
    "        self.dimuon_pt = -np.log(np.random.uniform(size=nEvents))*100\n",
    "        self.dimuon_deta = np.random.uniform(size=nEvents)\n",
    "        self.dimuon_dphi = np.random.uniform(size=nEvents)"
   ]
  },
  {
   "cell_type": "code",
   "execution_count": 3,
   "metadata": {},
   "outputs": [],
   "source": [
    "leptonTriggerMask = 0b011000  # Some combination of appropriate trigger bits\n",
    "signal_region = {\n",
    "    \"leptonTrigger\": (\"Descriptive name\", lambda df: df.triggers & leptonTriggerMask),\n",
    "    \"pt50\": (\"Descriptive name\", lambda df: df.dimuon_pt > 50.),\n",
    "    \"dR\": (\"Descriptive name\", lambda df: np.hypot(df.dimuon_deta, df.dimuon_dphi) < 0.4),\n",
    "}"
   ]
  },
  {
   "cell_type": "code",
   "execution_count": 18,
   "metadata": {},
   "outputs": [],
   "source": [
    "class Selection(object):\n",
    "    def __init__(self, defs):\n",
    "        self._vars = list(defs.keys())\n",
    "        self._funcs = defs\n",
    "    \n",
    "    def __getattr__(self, attr):\n",
    "        if attr in self._vars:\n",
    "            return self.bitpos(attr)\n",
    "        else:\n",
    "            raise AttributeError\n",
    "    \n",
    "    def __call__(self, df):\n",
    "        return sum(self.bitpos(key)*self.func(key)(df) for key in self._vars)\n",
    "    \n",
    "    def bitpos(self, attr):\n",
    "        return 1<<(self._vars.index(attr))\n",
    "    \n",
    "    def func(self, key):\n",
    "        return self._funcs[key][1]"
   ]
  },
  {
   "cell_type": "code",
   "execution_count": 20,
   "metadata": {},
   "outputs": [],
   "source": [
    "sr = Selection(signal_region)\n",
    "df = DataFrame(nEvents=int(1e6))\n",
    "mask = sr.pt50 | sr.dR\n",
    "require = sr.pt50"
   ]
  },
  {
   "cell_type": "code",
   "execution_count": 21,
   "metadata": {},
   "outputs": [],
   "source": [
    "def pack\n",
    "packedSelection = sr(df)\n",
    "passing = (packedSelection & mask) == require"
   ]
  },
  {
   "cell_type": "code",
   "execution_count": 22,
   "metadata": {},
   "outputs": [
    {
     "data": {
      "text/plain": [
       "529673"
      ]
     },
     "execution_count": 22,
     "metadata": {},
     "output_type": "execute_result"
    }
   ],
   "source": [
    "sum(passing)"
   ]
  },
  {
   "cell_type": "code",
   "execution_count": 23,
   "metadata": {},
   "outputs": [
    {
     "data": {
      "text/plain": [
       "149.7942869757826"
      ]
     },
     "execution_count": 23,
     "metadata": {},
     "output_type": "execute_result"
    }
   ],
   "source": [
    "np.mean(df.dimuon_pt[passing])"
   ]
  },
  {
   "cell_type": "code",
   "execution_count": null,
   "metadata": {},
   "outputs": [],
   "source": []
  }
 ],
 "metadata": {
  "kernelspec": {
   "display_name": "Python 3",
   "language": "python",
   "name": "python3"
  },
  "language_info": {
   "codemirror_mode": {
    "name": "ipython",
    "version": 3
   },
   "file_extension": ".py",
   "mimetype": "text/x-python",
   "name": "python",
   "nbconvert_exporter": "python",
   "pygments_lexer": "ipython3",
   "version": "3.7.0"
  }
 },
 "nbformat": 4,
 "nbformat_minor": 2
}
