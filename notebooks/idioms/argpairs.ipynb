{
 "cells": [
  {
   "cell_type": "code",
   "execution_count": 1,
   "metadata": {},
   "outputs": [],
   "source": [
    "import numpy as np\n",
    "import awkward"
   ]
  },
  {
   "cell_type": "code",
   "execution_count": 2,
   "metadata": {},
   "outputs": [],
   "source": [
    "# construct two arrays with same shape\n",
    "# we want to form pairs of one array conditioned on a property found in the other array\n",
    "nevents = 50000\n",
    "counts = np.minimum(np.random.exponential(2, size=nevents).astype(int), 20)\n",
    "a = awkward.JaggedArray.fromcounts(counts, np.random.normal(size=np.sum(counts)))\n",
    "b = awkward.JaggedArray.fromcounts(counts, np.random.normal(size=np.sum(counts)))"
   ]
  },
  {
   "cell_type": "code",
   "execution_count": 3,
   "metadata": {},
   "outputs": [],
   "source": [
    "# using fancy indexing\n",
    "pairs = a.argpairs()\n",
    "good = b[pairs.at(0)]*2 > b[pairs.at(1)]\n",
    "result = a[pairs[good].at(0)] + a[pairs[good].at(1)]"
   ]
  },
  {
   "cell_type": "code",
   "execution_count": 4,
   "metadata": {},
   "outputs": [],
   "source": [
    "# another (simpler?) way to do it, at the expense of making two argpairs calls which have the same result\n",
    "apairs = a.pairs()\n",
    "bpairs = b.pairs()\n",
    "good2 = bpairs['0']*2 > bpairs['1']\n",
    "result2 = apairs[good2].at(0) + apairs[good2].at(1)"
   ]
  },
  {
   "cell_type": "code",
   "execution_count": 5,
   "metadata": {},
   "outputs": [
    {
     "data": {
      "text/plain": [
       "True"
      ]
     },
     "execution_count": 5,
     "metadata": {},
     "output_type": "execute_result"
    }
   ],
   "source": [
    "np.all((result == result2).flatten())"
   ]
  },
  {
   "cell_type": "code",
   "execution_count": null,
   "metadata": {},
   "outputs": [],
   "source": []
  }
 ],
 "metadata": {
  "kernelspec": {
   "display_name": "Python 2",
   "language": "python",
   "name": "python2"
  },
  "language_info": {
   "codemirror_mode": {
    "name": "ipython",
    "version": 2
   },
   "file_extension": ".py",
   "mimetype": "text/x-python",
   "name": "python",
   "nbconvert_exporter": "python",
   "pygments_lexer": "ipython2",
   "version": "2.7.15"
  }
 },
 "nbformat": 4,
 "nbformat_minor": 2
}
