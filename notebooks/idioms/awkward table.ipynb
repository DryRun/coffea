{
 "cells": [
  {
   "cell_type": "code",
   "execution_count": 1,
   "metadata": {},
   "outputs": [],
   "source": [
    "import numpy as np\n",
    "import awkward\n",
    "import uproot_methods\n",
    "\n",
    "JaggedWithLorentz = awkward.Methods.mixin(uproot_methods.classes.TLorentzVector.ArrayMethods, awkward.JaggedArray)"
   ]
  },
  {
   "cell_type": "code",
   "execution_count": 2,
   "metadata": {},
   "outputs": [],
   "source": [
    "nevents = 50000\n",
    "np.random.seed(42)\n",
    "\n",
    "counts = np.minimum(np.random.exponential(2, size=nevents).astype(int), 20)\n",
    "make_jagged = lambda a: awkward.JaggedArray.fromcounts(counts, a)\n",
    "\n",
    "nobj = np.sum(counts)\n",
    "px = np.random.normal(0., 20., size=nobj)\n",
    "py = np.random.normal(0., 20., size=nobj)\n",
    "pz = np.sqrt(px**2+py**2)*np.sinh(np.random.uniform(-2.5, 2.5, size=nobj))\n",
    "pE = np.sqrt(px*px+py*py+pz*pz+0.000511**2)\n",
    "p4 = JaggedWithLorentz.fromcounts(counts, uproot_methods.TLorentzVectorArray(px, py, pz, pE))\n",
    "\n",
    "q = make_jagged(np.random.randint(2, size=nobj)*2-1)\n",
    "idvar = make_jagged(np.random.normal(size=nobj))\n",
    "\n",
    "# structured style\n",
    "objects = make_jagged(awkward.Table({\n",
    "        'p4': p4.content,\n",
    "        'q': q.content,\n",
    "        'idvar': idvar.content,\n",
    "    }))"
   ]
  },
  {
   "cell_type": "code",
   "execution_count": 6,
   "metadata": {},
   "outputs": [
    {
     "data": {
      "text/plain": [
       "<JaggedArray [[] [46.62236793 44.48717172] [] ... [12.89840954] [] []] at 7f3ab445ef10>"
      ]
     },
     "execution_count": 6,
     "metadata": {},
     "output_type": "execute_result"
    }
   ],
   "source": [
    "# create candidates via independent columnar operations\n",
    "p4_pairs = p4.pairs(same=False)\n",
    "q_pairs = q.pairs(same=False)\n",
    "idvar_pairs = idvar.pairs(same=False)\n",
    "good = (idvar_pairs._0 > 0.1) & (idvar_pairs._1 > 0.1) & (q_pairs._0*q_pairs._1 == -1)\n",
    "zp4 = p4_pairs._0 + p4_pairs._1\n",
    "zp4.mass[good]"
   ]
  },
  {
   "cell_type": "code",
   "execution_count": 5,
   "metadata": {},
   "outputs": [
    {
     "data": {
      "text/plain": [
       "<JaggedArray [[] [46.62236793 44.48717172] [] ... [12.89840954] [] []] at 7f3ab4455d90>"
      ]
     },
     "execution_count": 5,
     "metadata": {},
     "output_type": "execute_result"
    }
   ],
   "source": [
    "# create candidates from structure\n",
    "zcands = objects.pairs(same=False)\n",
    "good = (zcands._0['idvar'] > 0.1) & (zcands._1['idvar'] > 0.1) & (zcands._0['q']*zcands._1['q'] == -1)\n",
    "zp4 = zcands._0['p4'] + zcands._1['p4']\n",
    "zp4.mass[good]"
   ]
  },
  {
   "cell_type": "code",
   "execution_count": 17,
   "metadata": {},
   "outputs": [
    {
     "data": {
      "text/plain": [
       "<JaggedArray [[] [0.000511   0.000511   0.000511   0.000511   0.000511   0.000511   0.000511   0.000511   0.000511   0.000511   0.000511   0.000511   0.000511   0.000511   0.000511   0.000511   0.000511   0.000511   0.000511   0.000511   0.00051099] [0.000511 0.000511 0.000511] ... [0.000511 0.000511 0.000511] [0.000511] [0.000511   0.000511   0.000511   0.00051101 0.00051101 0.000511  ]] at 7f3ab35b27d0>"
      ]
     },
     "execution_count": 17,
     "metadata": {},
     "output_type": "execute_result"
    }
   ],
   "source": [
    "dummy = uproot_methods.TLorentzVector(0.,0.,0.,0.)\n",
    "(p4.pairs()._0+dummy).mass"
   ]
  },
  {
   "cell_type": "code",
   "execution_count": null,
   "metadata": {},
   "outputs": [],
   "source": []
  }
 ],
 "metadata": {
  "kernelspec": {
   "display_name": "Python 2",
   "language": "python",
   "name": "python2"
  },
  "language_info": {
   "codemirror_mode": {
    "name": "ipython",
    "version": 2
   },
   "file_extension": ".py",
   "mimetype": "text/x-python",
   "name": "python",
   "nbconvert_exporter": "python",
   "pygments_lexer": "ipython2",
   "version": "2.7.15"
  }
 },
 "nbformat": 4,
 "nbformat_minor": 2
}
