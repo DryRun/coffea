{
 "cells": [
  {
   "cell_type": "code",
   "execution_count": 1,
   "metadata": {},
   "outputs": [],
   "source": [
    "import numpy as np\n",
    "import awkward\n",
    "import uproot_methods"
   ]
  },
  {
   "cell_type": "code",
   "execution_count": 53,
   "metadata": {},
   "outputs": [],
   "source": [
    "nevents = 50000\n",
    "counts = np.minimum(np.random.exponential(2, size=nevents).astype(int), 20)\n",
    "\n",
    "nobj = np.sum(counts)\n",
    "p4 = np.empty((nobj, 4))\n",
    "p4[:,:2] = np.random.normal(0., 20., size=nobj*2).reshape((-1, 2))\n",
    "p4[:,2] = np.sqrt(p4[:,0]**2+p4[:,1]**2)*np.sinh(np.random.uniform(-2.5, 2.5, size=nobj))\n",
    "p4[:,3] = np.sqrt(np.sum(p4[:,:3]**2, axis=1)+0.000511)\n",
    "\n",
    "q = np.random.randint(2, size=nobj)*2-1\n",
    "mva = np.random.normal(size=nobj)"
   ]
  },
  {
   "cell_type": "code",
   "execution_count": 105,
   "metadata": {},
   "outputs": [],
   "source": [
    "JaggedWithLorentz = awkward.Methods.mixin(uproot_methods.classes.TLorentzVector.ArrayMethods, awkward.JaggedArray)\n",
    "#ObjectArrayWithLorentz = awkward.Methods.mixin(uproot_methods.classes.TLorentzVector.ArrayMethods, awkward.ObjectArray)\n",
    "form = lambda input_dict: awkward.JaggedArray.fromcounts(counts, awkward.Table(input_dict))\n",
    "\n",
    "objects = form({\n",
    "        'p4': uproot_methods.TLorentzVectorArray(*tuple(p4[:,i] for i in range(4))),\n",
    "        'q': q,\n",
    "        'id': mva,\n",
    "    })"
   ]
  },
  {
   "cell_type": "code",
   "execution_count": 106,
   "metadata": {},
   "outputs": [],
   "source": [
    "good = objects['id'] > 0.1"
   ]
  },
  {
   "cell_type": "code",
   "execution_count": 111,
   "metadata": {},
   "outputs": [
    {
     "ename": "IndexError",
     "evalue": "jagged array used as index contains out-of-bounds values",
     "output_type": "error",
     "traceback": [
      "\u001b[0;31m\u001b[0m",
      "\u001b[0;31mIndexError\u001b[0mTraceback (most recent call last)",
      "\u001b[0;32m<ipython-input-111-b5b4f4da464c>\u001b[0m in \u001b[0;36m<module>\u001b[0;34m()\u001b[0m\n\u001b[1;32m      1\u001b[0m \u001b[0mpairs\u001b[0m \u001b[0;34m=\u001b[0m \u001b[0mobjects\u001b[0m\u001b[0;34m.\u001b[0m\u001b[0margpairs\u001b[0m\u001b[0;34m(\u001b[0m\u001b[0;34m)\u001b[0m\u001b[0;34m\u001b[0m\u001b[0m\n\u001b[0;32m----> 2\u001b[0;31m \u001b[0mobjects\u001b[0m\u001b[0;34m[\u001b[0m\u001b[0mpairs\u001b[0m\u001b[0;34m[\u001b[0m\u001b[0;34m'0'\u001b[0m\u001b[0;34m]\u001b[0m\u001b[0;34m]\u001b[0m\u001b[0;34m\u001b[0m\u001b[0m\n\u001b[0m",
      "\u001b[0;32m/opt/conda/lib/python2.7/site-packages/awkward/array/jagged.pyc\u001b[0m in \u001b[0;36m__getitem__\u001b[0;34m(self, where)\u001b[0m\n\u001b[1;32m    453\u001b[0m \u001b[0;34m\u001b[0m\u001b[0m\n\u001b[1;32m    454\u001b[0m                 \u001b[0;32mif\u001b[0m \u001b[0;32mnot\u001b[0m \u001b[0mawkward\u001b[0m\u001b[0;34m.\u001b[0m\u001b[0mutil\u001b[0m\u001b[0;34m.\u001b[0m\u001b[0mnumpy\u001b[0m\u001b[0;34m.\u001b[0m\u001b[0mbitwise_and\u001b[0m\u001b[0;34m(\u001b[0m\u001b[0;36m0\u001b[0m \u001b[0;34m<=\u001b[0m \u001b[0mindexes\u001b[0m\u001b[0;34m,\u001b[0m \u001b[0mindexes\u001b[0m \u001b[0;34m<\u001b[0m \u001b[0mcounts\u001b[0m\u001b[0;34m)\u001b[0m\u001b[0;34m.\u001b[0m\u001b[0mall\u001b[0m\u001b[0;34m(\u001b[0m\u001b[0;34m)\u001b[0m\u001b[0;34m:\u001b[0m\u001b[0;34m\u001b[0m\u001b[0m\n\u001b[0;32m--> 455\u001b[0;31m                     \u001b[0;32mraise\u001b[0m \u001b[0mIndexError\u001b[0m\u001b[0;34m(\u001b[0m\u001b[0;34m\"jagged array used as index contains out-of-bounds values\"\u001b[0m\u001b[0;34m)\u001b[0m\u001b[0;34m\u001b[0m\u001b[0m\n\u001b[0m\u001b[1;32m    456\u001b[0m \u001b[0;34m\u001b[0m\u001b[0m\n\u001b[1;32m    457\u001b[0m                 \u001b[0mindexes\u001b[0m \u001b[0;34m+=\u001b[0m \u001b[0mhead\u001b[0m\u001b[0;34m.\u001b[0m\u001b[0m_broadcast\u001b[0m\u001b[0;34m(\u001b[0m\u001b[0mself\u001b[0m\u001b[0;34m.\u001b[0m\u001b[0m_starts\u001b[0m\u001b[0;34m)\u001b[0m\u001b[0;34m.\u001b[0m\u001b[0m_content\u001b[0m\u001b[0;34m\u001b[0m\u001b[0m\n",
      "\u001b[0;31mIndexError\u001b[0m: jagged array used as index contains out-of-bounds values"
     ]
    }
   ],
   "source": [
    "pairs = objects.argpairs()\n",
    "objects[pairs['0']]"
   ]
  },
  {
   "cell_type": "code",
   "execution_count": 112,
   "metadata": {},
   "outputs": [
    {
     "data": {
      "text/plain": [
       "<JaggedArray [[<Row 0> <Row 1>] [<Row 2> <Row 3>] [] ... [<Row 77318> <Row 77319>] [] []] at 7f2f6c082a50>"
      ]
     },
     "execution_count": 112,
     "metadata": {},
     "output_type": "execute_result"
    }
   ],
   "source": [
    "objects"
   ]
  },
  {
   "cell_type": "code",
   "execution_count": 173,
   "metadata": {},
   "outputs": [],
   "source": [
    "nevents = 50000\n",
    "counts = np.minimum(np.random.exponential(2, size=nevents).astype(int), 20)\n",
    "a = awkward.JaggedArray.fromcounts(counts, np.random.normal(size=np.sum(counts)))\n",
    "b = awkward.JaggedArray.fromcounts(counts, np.random.normal(size=np.sum(counts)))\n",
    "pairs = a.argpairs()\n",
    "good = pairs.empty_like()\n",
    "good.content = b.content[pairs['0'].flatten()]*2 > b.content[pairs['1'].flatten()]\n",
    "result = good[good].empty_like()\n",
    "result.content = a.content[pairs[good]['0'].flatten()] + a.content[pairs[good]['1'].flatten()]"
   ]
  },
  {
   "cell_type": "code",
   "execution_count": 174,
   "metadata": {},
   "outputs": [],
   "source": [
    "pairs2 = a.pairs()\n",
    "good2 = b.pairs()['0']*2 > b.pairs()['1']\n",
    "result2 = pairs2[good2]['0'] + pairs2[good2]['1']"
   ]
  },
  {
   "cell_type": "code",
   "execution_count": 175,
   "metadata": {},
   "outputs": [
    {
     "data": {
      "text/plain": [
       "<JaggedArray [[-1.55653048] [] [0.25908337 0.63805893 1.01703448]] at 7f2f6c2fa890>"
      ]
     },
     "execution_count": 175,
     "metadata": {},
     "output_type": "execute_result"
    }
   ],
   "source": [
    "result2[:3]"
   ]
  },
  {
   "cell_type": "code",
   "execution_count": 176,
   "metadata": {},
   "outputs": [
    {
     "data": {
      "text/plain": [
       "<JaggedArray [[-1.55653048] [] [0.25908337 0.63805893 1.01703448]] at 7f2f6c2fa690>"
      ]
     },
     "execution_count": 176,
     "metadata": {},
     "output_type": "execute_result"
    }
   ],
   "source": [
    "result[:3]"
   ]
  },
  {
   "cell_type": "code",
   "execution_count": 181,
   "metadata": {},
   "outputs": [
    {
     "data": {
      "text/plain": [
       "True"
      ]
     },
     "execution_count": 181,
     "metadata": {},
     "output_type": "execute_result"
    }
   ],
   "source": [
    "np.all((result == result2).flatten())"
   ]
  },
  {
   "cell_type": "code",
   "execution_count": null,
   "metadata": {},
   "outputs": [],
   "source": []
  }
 ],
 "metadata": {
  "kernelspec": {
   "display_name": "Python 2",
   "language": "python",
   "name": "python2"
  },
  "language_info": {
   "codemirror_mode": {
    "name": "ipython",
    "version": 2
   },
   "file_extension": ".py",
   "mimetype": "text/x-python",
   "name": "python",
   "nbconvert_exporter": "python",
   "pygments_lexer": "ipython2",
   "version": "2.7.15"
  }
 },
 "nbformat": 4,
 "nbformat_minor": 2
}
