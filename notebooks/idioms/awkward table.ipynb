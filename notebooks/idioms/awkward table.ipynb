{
 "cells": [
  {
   "cell_type": "code",
   "execution_count": 1,
   "metadata": {},
   "outputs": [
    {
     "data": {
      "text/plain": [
       "'0.5.1'"
      ]
     },
     "execution_count": 1,
     "metadata": {},
     "output_type": "execute_result"
    }
   ],
   "source": [
    "import numpy as np\n",
    "import awkward\n",
    "import uproot_methods\n",
    "awkward.version.version"
   ]
  },
  {
   "cell_type": "code",
   "execution_count": 2,
   "metadata": {},
   "outputs": [],
   "source": [
    "nevents = 50000\n",
    "np.random.seed(42)\n",
    "counts = np.minimum(np.random.exponential(2, size=nevents).astype(int), 20)\n",
    "\n",
    "def fix_argpairs(a, s):\n",
    "    # fixes a bug in awkward, will be obviated soon\n",
    "    a0 = a._0 - s.starts\n",
    "    a1 = a._1 - s.starts\n",
    "    # ... n?\n",
    "    return awkward.Table({'0': a0, '1': a1})\n",
    "\n",
    "\n",
    "make_jagged = lambda a: awkward.JaggedArray.fromcounts(counts, a)\n",
    "nobj = np.sum(counts)\n",
    "px = np.random.normal(0., 20., size=nobj)\n",
    "py = np.random.normal(0., 20., size=nobj)\n",
    "pz = np.sqrt(px**2+py**2)*np.sinh(np.random.uniform(-2.5, 2.5, size=nobj))\n",
    "pE = np.sqrt(px*px+py*py+pz*pz+0.000511**2)\n",
    "# turn into jagged arrays\n",
    "p4 = uproot_methods.TLorentzVectorArray.from_cartesian(make_jagged(px), make_jagged(py), make_jagged(pz), make_jagged(pE))\n",
    "\n",
    "q = make_jagged(np.random.randint(2, size=nobj)*2-1)\n",
    "idvar = make_jagged(np.random.normal(size=nobj))\n",
    "\n",
    "# structured style\n",
    "objects = make_jagged(awkward.Table({\n",
    "        'p4': p4.content,\n",
    "        'q': q.content,\n",
    "        'idvar': idvar.content,\n",
    "    }))"
   ]
  },
  {
   "cell_type": "code",
   "execution_count": 3,
   "metadata": {},
   "outputs": [
    {
     "name": "stdout",
     "output_type": "stream",
     "text": [
      "1000 loops, best of 3: 1.7 ms per loop\n",
      "100 loops, best of 3: 16.5 ms per loop\n"
     ]
    }
   ],
   "source": [
    "# object vs scalar fancy indexing\n",
    "%timeit p4[p4.counts==2].sum()\n",
    "%timeit q[q.counts==2].prod()"
   ]
  },
  {
   "cell_type": "code",
   "execution_count": 4,
   "metadata": {},
   "outputs": [
    {
     "name": "stdout",
     "output_type": "stream",
     "text": [
      "10 loops, best of 3: 26.2 ms per loop\n"
     ]
    }
   ],
   "source": [
    "%%timeit\n",
    "# stack two categories\n",
    "cat1 = ((p4.pt>20.).counts==2) & (q.prod()==-1)\n",
    "cat2 = ((p4.pt>20.).counts==2) & (q.prod()==1)\n",
    "cands1 = p4[cat1][:,0]+p4[cat1][:,1]\n",
    "cands2 = p4[cat2][:,0]+p4[cat2][:,1]\n",
    "np.hstack([cands1.mass, cands2.mass])"
   ]
  },
  {
   "cell_type": "code",
   "execution_count": 5,
   "metadata": {},
   "outputs": [
    {
     "name": "stdout",
     "output_type": "stream",
     "text": [
      "100 loops, best of 3: 1.95 ms per loop\n"
     ]
    }
   ],
   "source": [
    "%%timeit\n",
    "# create only leading candidates\n",
    "cat = ((idvar>0.1).counts==2) & (q.prod()==-1)\n",
    "cands = p4[cat][:,0]+p4[cat][:,1]\n",
    "cands.mass"
   ]
  },
  {
   "cell_type": "code",
   "execution_count": 6,
   "metadata": {},
   "outputs": [
    {
     "name": "stdout",
     "output_type": "stream",
     "text": [
      "100 loops, best of 3: 5.51 ms per loop\n"
     ]
    }
   ],
   "source": [
    "%%timeit\n",
    "# create distincts\n",
    "cat = ((idvar>0.1).counts==2) & (q.prod()==-1)\n",
    "p = p4[cat].distincts()\n",
    "(p.at(0) + p.at(1)).mass[:,0]"
   ]
  },
  {
   "cell_type": "code",
   "execution_count": 7,
   "metadata": {},
   "outputs": [
    {
     "name": "stdout",
     "output_type": "stream",
     "text": [
      "10 loops, best of 3: 106 ms per loop\n"
     ]
    }
   ],
   "source": [
    "%%timeit\n",
    "# create candidates via independent columnar operations\n",
    "p4_pairs = p4.distincts()\n",
    "q_pairs = q.distincts()\n",
    "idvar_pairs = idvar.distincts()\n",
    "good = (idvar_pairs.at(0) > 0.1) & (idvar_pairs.at(1) > 0.1) & (q_pairs.at(0)*q_pairs.at(1) == -1)\n",
    "zp4 = p4_pairs.at(0) + p4_pairs.at(1)\n",
    "zp4.mass[good]"
   ]
  },
  {
   "cell_type": "code",
   "execution_count": 8,
   "metadata": {},
   "outputs": [
    {
     "name": "stdout",
     "output_type": "stream",
     "text": [
      "10 loops, best of 3: 59.3 ms per loop\n"
     ]
    }
   ],
   "source": [
    "%%timeit\n",
    "# create candidates from structure\n",
    "zcands = objects.distincts()\n",
    "good = (zcands.at(0)['idvar'] > 0.1) & (zcands.at(1)['idvar'] > 0.1) & (zcands.at(0)['q']*zcands.at(1)['q'] == -1)\n",
    "zp4 = zcands.at(0)['p4'] + zcands.at(1)['p4']\n",
    "zp4.mass[good]"
   ]
  },
  {
   "cell_type": "code",
   "execution_count": null,
   "metadata": {},
   "outputs": [],
   "source": []
  }
 ],
 "metadata": {
  "kernelspec": {
   "display_name": "Python 2",
   "language": "python",
   "name": "python2"
  },
  "language_info": {
   "codemirror_mode": {
    "name": "ipython",
    "version": 2
   },
   "file_extension": ".py",
   "mimetype": "text/x-python",
   "name": "python",
   "nbconvert_exporter": "python",
   "pygments_lexer": "ipython2",
   "version": "2.7.15"
  }
 },
 "nbformat": 4,
 "nbformat_minor": 2
}
