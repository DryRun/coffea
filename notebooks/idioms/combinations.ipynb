{
 "cells": [
  {
   "cell_type": "code",
   "execution_count": 1,
   "metadata": {},
   "outputs": [],
   "source": [
    "from __future__ import print_function\n",
    "import numpy as np\n",
    "import numba\n",
    "import awkward\n",
    "import uproot_methods\n",
    "\n",
    "np.random.seed(4)\n",
    "nrows = 50000"
   ]
  },
  {
   "cell_type": "code",
   "execution_count": 2,
   "metadata": {},
   "outputs": [],
   "source": [
    "def comb(counts, content):\n",
    "    out_counts = counts*(counts-1)//2\n",
    "    out = np.empty((np.sum(out_counts), ) + content.shape[1:])\n",
    "    i = 0\n",
    "    n = 0\n",
    "    for c in counts:\n",
    "        for i1 in range(i, i+c):\n",
    "            for i2 in range(i1+1, i+c):\n",
    "                out[n] = content[i1]+content[i2]\n",
    "                n += 1\n",
    "        i += c\n",
    "    return (out_counts, out)\n",
    "\n",
    "comb_fast = numba.njit(comb)\n",
    "\n",
    "def awk_comb(awk):\n",
    "    c = awk.pairs(same=False)\n",
    "    return c[\"0\"] + c[\"1\"]\n",
    "\n",
    "def py_comb(awk):\n",
    "    counts, content = comb(awk.counts, awk.content)\n",
    "    return awkward.JaggedArray.fromcounts(counts, content)\n",
    "\n",
    "def py_comb_fast(awk):\n",
    "    counts, content = comb_fast(awk.counts, awk.content)\n",
    "    return awkward.JaggedArray.fromcounts(counts, content)"
   ]
  },
  {
   "cell_type": "code",
   "execution_count": 3,
   "metadata": {},
   "outputs": [
    {
     "name": "stdout",
     "output_type": "stream",
     "text": [
      "(77794, 4)\n"
     ]
    }
   ],
   "source": [
    "nwide = 4\n",
    "counts = np.minimum(np.random.exponential(2, size=nrows).astype(int), 20)\n",
    "content = np.random.normal(size=np.sum(counts)*nwide).reshape((-1, nwide))\n",
    "print(content.shape)\n",
    "\n",
    "awk_vector = awkward.JaggedArray.fromcounts(counts, content)"
   ]
  },
  {
   "cell_type": "code",
   "execution_count": 5,
   "metadata": {},
   "outputs": [
    {
     "name": "stdout",
     "output_type": "stream",
     "text": [
      "10 loops, best of 3: 25.8 ms per loop\n",
      "10 loops, best of 3: 149 ms per loop\n",
      "100 loops, best of 3: 13.6 ms per loop\n",
      "100 loops, best of 3: 13.1 ms per loop\n"
     ]
    }
   ],
   "source": [
    "# force pre-compilation of numba functions\n",
    "_ = py_comb_fast(awk_vector)\n",
    "\n",
    "%timeit awk_comb(awk_vector)\n",
    "%timeit py_comb(awk_vector)\n",
    "%timeit py_comb_fast(awk_vector)\n",
    "%timeit comb_fast(awk_vector.counts, awk_vector.content)"
   ]
  },
  {
   "cell_type": "code",
   "execution_count": 4,
   "metadata": {},
   "outputs": [
    {
     "name": "stdout",
     "output_type": "stream",
     "text": [
      "(77794,)\n"
     ]
    }
   ],
   "source": [
    "content = np.random.normal(size=np.sum(counts))\n",
    "print(content.shape)\n",
    "\n",
    "awk_scalar = awkward.JaggedArray.fromcounts(counts, content)"
   ]
  },
  {
   "cell_type": "code",
   "execution_count": 7,
   "metadata": {},
   "outputs": [
    {
     "name": "stdout",
     "output_type": "stream",
     "text": [
      "100 loops, best of 3: 16.3 ms per loop\n",
      "10 loops, best of 3: 80.3 ms per loop\n",
      "1000 loops, best of 3: 728 µs per loop\n",
      "1000 loops, best of 3: 573 µs per loop\n"
     ]
    }
   ],
   "source": [
    "# force pre-compilation of numba functions\n",
    "_ = py_comb_fast(awk_scalar)\n",
    "\n",
    "%timeit awk_comb(awk_scalar)\n",
    "%timeit py_comb(awk_scalar)\n",
    "%timeit py_comb_fast(awk_scalar)\n",
    "%timeit comb_fast(awk_scalar.counts, awk_scalar.content)"
   ]
  },
  {
   "cell_type": "code",
   "execution_count": 5,
   "metadata": {},
   "outputs": [
    {
     "data": {
      "text/plain": [
       "(70,)"
      ]
     },
     "execution_count": 5,
     "metadata": {},
     "output_type": "execute_result"
    }
   ],
   "source": [
    "pairs = awk_vector[awk_scalar>2].pairs(same=False)\n",
    "psum = np.sum((pairs[\"0\"]+pairs[\"1\"]).flatten(), axis=1)\n",
    "psum.shape"
   ]
  },
  {
   "cell_type": "code",
   "execution_count": 11,
   "metadata": {},
   "outputs": [],
   "source": [
    "awk_table = awkward.JaggedArray.fromcounts(counts, awkward.Table({'p4': awk_vector.content, 'mva': awk_scalar.content}))"
   ]
  },
  {
   "cell_type": "code",
   "execution_count": 30,
   "metadata": {},
   "outputs": [],
   "source": [
    "cands = awk_table.filter(lambda e: e[\"mva\"] > 0.1).pairs(same=False)"
   ]
  },
  {
   "cell_type": "code",
   "execution_count": 40,
   "metadata": {},
   "outputs": [
    {
     "data": {
      "text/plain": [
       "array([[-0.70347653, -1.86507534,  1.52660793, -0.30144823],\n",
       "       [-0.30629157, -1.74131868,  2.56904999, -0.64787003],\n",
       "       [-1.19569064,  0.08437995,  0.44131212,  0.84862772],\n",
       "       ...,\n",
       "       [ 2.82717337, -1.65248704, -2.56233534, -0.53740854],\n",
       "       [ 1.86148622, -0.20414302, -1.52229017,  0.2067014 ],\n",
       "       [ 1.97859094,  1.14343086,  2.03619349,  3.32994635]])"
      ]
     },
     "execution_count": 40,
     "metadata": {},
     "output_type": "execute_result"
    }
   ],
   "source": [
    "cands[cands['0']['mva'] > cands['1']['mva']].apply(lambda p: p['0']['p4'] + p['1']['p4']).flatten()"
   ]
  },
  {
   "cell_type": "code",
   "execution_count": 27,
   "metadata": {},
   "outputs": [
    {
     "data": {
      "text/plain": [
       "array([[-0.64924406, -0.19854086, -0.97910599,  1.17957954],\n",
       "       [ 1.4007266 , -1.80694058, -0.45575892,  1.1740093 ],\n",
       "       [-0.62125129, -1.55699383,  0.79410251, -0.8170691 ]])"
      ]
     },
     "execution_count": 27,
     "metadata": {},
     "output_type": "execute_result"
    }
   ],
   "source": []
  },
  {
   "cell_type": "code",
   "execution_count": null,
   "metadata": {},
   "outputs": [],
   "source": [
    "physt.h1(t.array(\"muonp4\")                          # get the muon 4-vectors\n",
    "          .filter(lambda muon: abs(muon.eta) < 1)   # select central muons (select particles, not events)\n",
    "          .pairs(same=False)                        # form all non-duplicate pairs\n",
    "          .apply(lambda a, b: a + b)                # compute Z candidates from as 4-vector sums\n",
    "          .maxby(lambda z: z.pt)                    # select one per event, the highest pT\n",
    "          .flatten()                                # flatten [x] → x and [] → nothing (ignore empty events)\n",
    "          .mass,                                    # compute the masses of what remains\n",
    "         bins=100).plot()"
   ]
  }
 ],
 "metadata": {
  "kernelspec": {
   "display_name": "Python 2",
   "language": "python",
   "name": "python2"
  },
  "language_info": {
   "codemirror_mode": {
    "name": "ipython",
    "version": 2
   },
   "file_extension": ".py",
   "mimetype": "text/x-python",
   "name": "python",
   "nbconvert_exporter": "python",
   "pygments_lexer": "ipython2",
   "version": "2.7.15"
  }
 },
 "nbformat": 4,
 "nbformat_minor": 2
}
