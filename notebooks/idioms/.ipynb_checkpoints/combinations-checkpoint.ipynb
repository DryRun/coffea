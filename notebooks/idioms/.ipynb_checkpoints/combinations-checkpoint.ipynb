{
 "cells": [
  {
   "cell_type": "code",
   "execution_count": 1,
   "metadata": {},
   "outputs": [
    {
     "ename": "ImportError",
     "evalue": "No module named awkward",
     "output_type": "error",
     "traceback": [
      "\u001b[0;31m\u001b[0m",
      "\u001b[0;31mImportError\u001b[0mTraceback (most recent call last)",
      "\u001b[0;32m<ipython-input-1-13e1f5e37202>\u001b[0m in \u001b[0;36m<module>\u001b[0;34m()\u001b[0m\n\u001b[1;32m      2\u001b[0m \u001b[0;32mimport\u001b[0m \u001b[0mnumpy\u001b[0m \u001b[0;32mas\u001b[0m \u001b[0mnp\u001b[0m\u001b[0;34m\u001b[0m\u001b[0m\n\u001b[1;32m      3\u001b[0m \u001b[0;32mimport\u001b[0m \u001b[0mnumba\u001b[0m\u001b[0;34m\u001b[0m\u001b[0m\n\u001b[0;32m----> 4\u001b[0;31m \u001b[0;32mimport\u001b[0m \u001b[0mawkward\u001b[0m\u001b[0;34m\u001b[0m\u001b[0m\n\u001b[0m\u001b[1;32m      5\u001b[0m \u001b[0;34m\u001b[0m\u001b[0m\n\u001b[1;32m      6\u001b[0m \u001b[0mnp\u001b[0m\u001b[0;34m.\u001b[0m\u001b[0mrandom\u001b[0m\u001b[0;34m.\u001b[0m\u001b[0mseed\u001b[0m\u001b[0;34m(\u001b[0m\u001b[0;36m4\u001b[0m\u001b[0;34m)\u001b[0m\u001b[0;34m\u001b[0m\u001b[0m\n",
      "\u001b[0;31mImportError\u001b[0m: No module named awkward"
     ]
    }
   ],
   "source": [
    "from __future__ import print_function\n",
    "import numpy as np\n",
    "import numba\n",
    "import awkward\n",
    "\n",
    "np.random.seed(4)\n",
    "nrows = 50000"
   ]
  },
  {
   "cell_type": "code",
   "execution_count": 2,
   "metadata": {},
   "outputs": [],
   "source": [
    "def comb(counts, content):\n",
    "    out_counts = counts*(counts-1)//2\n",
    "    out = np.empty((np.sum(out_counts), ) + content.shape[1:])\n",
    "    i = 0\n",
    "    n = 0\n",
    "    for c in counts:\n",
    "        for i1 in range(i, i+c):\n",
    "            for i2 in range(i1+1, i+c):\n",
    "                out[n] = content[i1]+content[i2]\n",
    "                n += 1\n",
    "        i += c\n",
    "    return (out_counts, out)\n",
    "\n",
    "comb_fast = numba.njit(comb)\n",
    "\n",
    "def awk_comb(awk):\n",
    "    c = awk.pairs(same=False)\n",
    "    return c[\"0\"] + c[\"1\"]\n",
    "\n",
    "def py_comb(awk):\n",
    "    counts, content = comb(awk.counts, awk.content)\n",
    "    return awkward.JaggedArray.fromcounts(counts, content)\n",
    "\n",
    "def py_comb_fast(awk):\n",
    "    counts, content = comb_fast(awk.counts, awk.content)\n",
    "    return awkward.JaggedArray.fromcounts(counts, content)"
   ]
  },
  {
   "cell_type": "code",
   "execution_count": 3,
   "metadata": {},
   "outputs": [
    {
     "name": "stdout",
     "output_type": "stream",
     "text": [
      "(77794, 4)\n"
     ]
    }
   ],
   "source": [
    "nwide = 4\n",
    "counts = np.minimum(np.random.exponential(2, size=nrows).astype(int), 20)\n",
    "content = np.random.normal(size=np.sum(counts)*nwide).reshape((-1, nwide))\n",
    "print(content.shape)\n",
    "\n",
    "awk_vector = awkward.JaggedArray.fromcounts(counts, content)"
   ]
  },
  {
   "cell_type": "code",
   "execution_count": 7,
   "metadata": {},
   "outputs": [
    {
     "name": "stdout",
     "output_type": "stream",
     "text": [
      "30.8 ms ± 2.22 ms per loop (mean ± std. dev. of 7 runs, 10 loops each)\n",
      "179 ms ± 3.75 ms per loop (mean ± std. dev. of 7 runs, 10 loops each)\n",
      "15.7 ms ± 515 µs per loop (mean ± std. dev. of 7 runs, 100 loops each)\n",
      "15.4 ms ± 240 µs per loop (mean ± std. dev. of 7 runs, 100 loops each)\n"
     ]
    }
   ],
   "source": [
    "# force pre-compilation of numba functions\n",
    "_ = py_comb_fast(awk_vector)\n",
    "\n",
    "%timeit awk_comb(awk_vector)\n",
    "%timeit py_comb(awk_vector)\n",
    "%timeit py_comb_fast(awk_vector)\n",
    "%timeit comb_fast(awk_vector.counts, awk_vector.content)"
   ]
  },
  {
   "cell_type": "code",
   "execution_count": 5,
   "metadata": {},
   "outputs": [
    {
     "name": "stdout",
     "output_type": "stream",
     "text": [
      "(77047,)\n"
     ]
    }
   ],
   "source": [
    "nwide = 4\n",
    "counts = np.minimum(np.random.exponential(2, size=nrows).astype(int), 20)\n",
    "content = np.random.normal(size=np.sum(counts))\n",
    "print(content.shape)\n",
    "\n",
    "awk_scalar = awkward.JaggedArray.fromcounts(counts, content)"
   ]
  },
  {
   "cell_type": "code",
   "execution_count": 8,
   "metadata": {},
   "outputs": [
    {
     "name": "stdout",
     "output_type": "stream",
     "text": [
      "18.4 ms ± 613 µs per loop (mean ± std. dev. of 7 runs, 100 loops each)\n",
      "88.4 ms ± 2.19 ms per loop (mean ± std. dev. of 7 runs, 10 loops each)\n",
      "855 µs ± 20.9 µs per loop (mean ± std. dev. of 7 runs, 1000 loops each)\n",
      "686 µs ± 17.3 µs per loop (mean ± std. dev. of 7 runs, 1000 loops each)\n"
     ]
    }
   ],
   "source": [
    "# force pre-compilation of numba functions\n",
    "_ = py_comb_fast(awk_scalar)\n",
    "\n",
    "%timeit awk_comb(awk_scalar)\n",
    "%timeit py_comb(awk_scalar)\n",
    "%timeit py_comb_fast(awk_scalar)\n",
    "%timeit comb_fast(awk_scalar.counts, awk_scalar.content)"
   ]
  },
  {
   "cell_type": "code",
   "execution_count": null,
   "metadata": {},
   "outputs": [],
   "source": []
  }
 ],
 "metadata": {
  "kernelspec": {
   "display_name": "Python 2",
   "language": "python",
   "name": "python2"
  },
  "language_info": {
   "codemirror_mode": {
    "name": "ipython",
    "version": 2
   },
   "file_extension": ".py",
   "mimetype": "text/x-python",
   "name": "python",
   "nbconvert_exporter": "python",
   "pygments_lexer": "ipython2",
   "version": "2.7.15"
  }
 },
 "nbformat": 4,
 "nbformat_minor": 2
}
